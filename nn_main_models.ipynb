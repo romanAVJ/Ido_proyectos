{
  "nbformat": 4,
  "nbformat_minor": 0,
  "metadata": {
    "colab": {
      "name": "nn_main_models.ipynb",
      "provenance": [],
      "collapsed_sections": [
        "FKqPQui5rjJR",
        "65_2RGHPq_Nj"
      ],
      "authorship_tag": "ABX9TyMy3KHhVMlHWOHBwzeaI01C",
      "include_colab_link": true
    },
    "kernelspec": {
      "name": "python3",
      "display_name": "Python 3"
    },
    "language_info": {
      "name": "python"
    },
    "accelerator": "TPU"
  },
  "cells": [
    {
      "cell_type": "markdown",
      "metadata": {
        "id": "view-in-github",
        "colab_type": "text"
      },
      "source": [
        "<a href=\"https://colab.research.google.com/github/romanAVJ/Ido_proyectos/blob/master/nn_main_models.ipynb\" target=\"_parent\"><img src=\"https://colab.research.google.com/assets/colab-badge.svg\" alt=\"Open In Colab\"/></a>"
      ]
    },
    {
      "cell_type": "markdown",
      "metadata": {
        "id": "YbJvQeQamL4M"
      },
      "source": [
        "# Get .py files and data from GitHub Repo"
      ]
    },
    {
      "cell_type": "markdown",
      "metadata": {
        "id": "bSgMAWnFokf-"
      },
      "source": [
        "First clone the entire repository to local file and then start "
      ]
    },
    {
      "cell_type": "code",
      "metadata": {
        "colab": {
          "base_uri": "https://localhost:8080/"
        },
        "id": "sMk-JY9qnzb7",
        "outputId": "b871d4cf-1934-4310-d583-2dbefede82ed"
      },
      "source": [
        "# Clone the entire repo.\n",
        "!git clone -l -s https://github.com/romanAVJ/Optimal_Bets_PremierLeague.git cloned-repo\n",
        "\n",
        "# move to folder \"cloned repo\"\n",
        "%cd cloned-repo\n"
      ],
      "execution_count": null,
      "outputs": [
        {
          "output_type": "stream",
          "name": "stdout",
          "text": [
            "Cloning into 'cloned-repo'...\n",
            "warning: --local is ignored\n",
            "remote: Enumerating objects: 98, done.\u001b[K\n",
            "remote: Counting objects: 100% (98/98), done.\u001b[K\n",
            "remote: Compressing objects: 100% (80/80), done.\u001b[K\n",
            "remote: Total 98 (delta 19), reused 94 (delta 17), pack-reused 0\u001b[K\n",
            "Unpacking objects: 100% (98/98), done.\n",
            "/content/cloned-repo\n"
          ]
        }
      ]
    },
    {
      "cell_type": "code",
      "metadata": {
        "id": "z5qIdE0_o9Ui",
        "colab": {
          "base_uri": "https://localhost:8080/"
        },
        "outputId": "55a3587d-0c90-43fb-dd2d-f5ccb62e69d0"
      },
      "source": [
        "# look that we are in the right place\n",
        "! ls "
      ],
      "execution_count": null,
      "outputs": [
        {
          "output_type": "stream",
          "name": "stdout",
          "text": [
            "Data  nn_models.ipynb  README.md  Results  Source\n"
          ]
        }
      ]
    },
    {
      "cell_type": "markdown",
      "metadata": {
        "id": "ZFhBn3z9p2dE"
      },
      "source": [
        "## Import libraries and .py files"
      ]
    },
    {
      "cell_type": "code",
      "metadata": {
        "id": "AsjAqxfho-o1",
        "colab": {
          "base_uri": "https://localhost:8080/"
        },
        "outputId": "ec2512fc-9e3d-476f-ff45-b9899b349947"
      },
      "source": [
        "# manually install dependencies of files\n",
        "# adjustText\n",
        "!pip install adjustText \n",
        "!pip install keras-tuner --upgrade\n",
        "\n",
        "# uninstall scikit-learn (old verison) and install new version (>= 0.24)\n",
        "!pip uninstall scikit-learn -y\n",
        "!pip install -U scikit-learn\n",
        "!pip uninstall sklearn -y\n",
        "!pip install -U sklearn\n",
        "\n",
        "# get libraries\n",
        "import pandas as pd\n",
        "import numpy as np\n",
        "import tensorflow as tf\n",
        "import keras_tuner as kt\n",
        "\n",
        "from tensorflow import keras\n",
        "import os \n",
        "import random\n",
        "\n",
        "from matplotlib import pyplot as plt\n",
        "import matplotlib.ticker as mtick\n",
        "from adjustText import adjust_text\n",
        "\n",
        "import Source.statistical_learning_model.nn_utils as nn_utils_ravj\n",
        "from sklearn.model_selection import TimeSeriesSplit\n"
      ],
      "execution_count": null,
      "outputs": [
        {
          "output_type": "stream",
          "name": "stdout",
          "text": [
            "Collecting adjustText\n",
            "  Downloading adjustText-0.7.3.tar.gz (7.5 kB)\n",
            "Requirement already satisfied: numpy in /usr/local/lib/python3.7/dist-packages (from adjustText) (1.19.5)\n",
            "Requirement already satisfied: matplotlib in /usr/local/lib/python3.7/dist-packages (from adjustText) (3.2.2)\n",
            "Requirement already satisfied: python-dateutil>=2.1 in /usr/local/lib/python3.7/dist-packages (from matplotlib->adjustText) (2.8.2)\n",
            "Requirement already satisfied: pyparsing!=2.0.4,!=2.1.2,!=2.1.6,>=2.0.1 in /usr/local/lib/python3.7/dist-packages (from matplotlib->adjustText) (2.4.7)\n",
            "Requirement already satisfied: kiwisolver>=1.0.1 in /usr/local/lib/python3.7/dist-packages (from matplotlib->adjustText) (1.3.2)\n",
            "Requirement already satisfied: cycler>=0.10 in /usr/local/lib/python3.7/dist-packages (from matplotlib->adjustText) (0.10.0)\n",
            "Requirement already satisfied: six in /usr/local/lib/python3.7/dist-packages (from cycler>=0.10->matplotlib->adjustText) (1.15.0)\n",
            "Building wheels for collected packages: adjustText\n",
            "  Building wheel for adjustText (setup.py) ... \u001b[?25l\u001b[?25hdone\n",
            "  Created wheel for adjustText: filename=adjustText-0.7.3-py3-none-any.whl size=7094 sha256=623b2a77299c242646ddfbcda66da80c06bcb594480396155aaeddceae5aa76c\n",
            "  Stored in directory: /root/.cache/pip/wheels/2f/98/32/afbf902d8f040fadfdf0a44357e4ab750afe165d873bf5893d\n",
            "Successfully built adjustText\n",
            "Installing collected packages: adjustText\n",
            "Successfully installed adjustText-0.7.3\n",
            "Collecting keras-tuner\n",
            "  Downloading keras_tuner-1.0.4-py3-none-any.whl (97 kB)\n",
            "\u001b[K     |████████████████████████████████| 97 kB 3.8 MB/s \n",
            "\u001b[?25hRequirement already satisfied: packaging in /usr/local/lib/python3.7/dist-packages (from keras-tuner) (21.0)\n",
            "Requirement already satisfied: ipython in /usr/local/lib/python3.7/dist-packages (from keras-tuner) (5.5.0)\n",
            "Requirement already satisfied: numpy in /usr/local/lib/python3.7/dist-packages (from keras-tuner) (1.19.5)\n",
            "Collecting kt-legacy\n",
            "  Downloading kt_legacy-1.0.4-py3-none-any.whl (9.6 kB)\n",
            "Requirement already satisfied: requests in /usr/local/lib/python3.7/dist-packages (from keras-tuner) (2.23.0)\n",
            "Requirement already satisfied: tensorboard in /usr/local/lib/python3.7/dist-packages (from keras-tuner) (2.6.0)\n",
            "Requirement already satisfied: scipy in /usr/local/lib/python3.7/dist-packages (from keras-tuner) (1.4.1)\n",
            "Requirement already satisfied: simplegeneric>0.8 in /usr/local/lib/python3.7/dist-packages (from ipython->keras-tuner) (0.8.1)\n",
            "Requirement already satisfied: decorator in /usr/local/lib/python3.7/dist-packages (from ipython->keras-tuner) (4.4.2)\n",
            "Requirement already satisfied: pickleshare in /usr/local/lib/python3.7/dist-packages (from ipython->keras-tuner) (0.7.5)\n",
            "Requirement already satisfied: traitlets>=4.2 in /usr/local/lib/python3.7/dist-packages (from ipython->keras-tuner) (5.1.0)\n",
            "Requirement already satisfied: pexpect in /usr/local/lib/python3.7/dist-packages (from ipython->keras-tuner) (4.8.0)\n",
            "Requirement already satisfied: setuptools>=18.5 in /usr/local/lib/python3.7/dist-packages (from ipython->keras-tuner) (57.4.0)\n",
            "Requirement already satisfied: pygments in /usr/local/lib/python3.7/dist-packages (from ipython->keras-tuner) (2.6.1)\n",
            "Requirement already satisfied: prompt-toolkit<2.0.0,>=1.0.4 in /usr/local/lib/python3.7/dist-packages (from ipython->keras-tuner) (1.0.18)\n",
            "Requirement already satisfied: wcwidth in /usr/local/lib/python3.7/dist-packages (from prompt-toolkit<2.0.0,>=1.0.4->ipython->keras-tuner) (0.2.5)\n",
            "Requirement already satisfied: six>=1.9.0 in /usr/local/lib/python3.7/dist-packages (from prompt-toolkit<2.0.0,>=1.0.4->ipython->keras-tuner) (1.15.0)\n",
            "Requirement already satisfied: pyparsing>=2.0.2 in /usr/local/lib/python3.7/dist-packages (from packaging->keras-tuner) (2.4.7)\n",
            "Requirement already satisfied: ptyprocess>=0.5 in /usr/local/lib/python3.7/dist-packages (from pexpect->ipython->keras-tuner) (0.7.0)\n",
            "Requirement already satisfied: urllib3!=1.25.0,!=1.25.1,<1.26,>=1.21.1 in /usr/local/lib/python3.7/dist-packages (from requests->keras-tuner) (1.24.3)\n",
            "Requirement already satisfied: idna<3,>=2.5 in /usr/local/lib/python3.7/dist-packages (from requests->keras-tuner) (2.10)\n",
            "Requirement already satisfied: chardet<4,>=3.0.2 in /usr/local/lib/python3.7/dist-packages (from requests->keras-tuner) (3.0.4)\n",
            "Requirement already satisfied: certifi>=2017.4.17 in /usr/local/lib/python3.7/dist-packages (from requests->keras-tuner) (2021.5.30)\n",
            "Requirement already satisfied: tensorboard-data-server<0.7.0,>=0.6.0 in /usr/local/lib/python3.7/dist-packages (from tensorboard->keras-tuner) (0.6.1)\n",
            "Requirement already satisfied: tensorboard-plugin-wit>=1.6.0 in /usr/local/lib/python3.7/dist-packages (from tensorboard->keras-tuner) (1.8.0)\n",
            "Requirement already satisfied: markdown>=2.6.8 in /usr/local/lib/python3.7/dist-packages (from tensorboard->keras-tuner) (3.3.4)\n",
            "Requirement already satisfied: google-auth<2,>=1.6.3 in /usr/local/lib/python3.7/dist-packages (from tensorboard->keras-tuner) (1.35.0)\n",
            "Requirement already satisfied: google-auth-oauthlib<0.5,>=0.4.1 in /usr/local/lib/python3.7/dist-packages (from tensorboard->keras-tuner) (0.4.6)\n",
            "Requirement already satisfied: absl-py>=0.4 in /usr/local/lib/python3.7/dist-packages (from tensorboard->keras-tuner) (0.12.0)\n",
            "Requirement already satisfied: wheel>=0.26 in /usr/local/lib/python3.7/dist-packages (from tensorboard->keras-tuner) (0.37.0)\n",
            "Requirement already satisfied: protobuf>=3.6.0 in /usr/local/lib/python3.7/dist-packages (from tensorboard->keras-tuner) (3.17.3)\n",
            "Requirement already satisfied: grpcio>=1.24.3 in /usr/local/lib/python3.7/dist-packages (from tensorboard->keras-tuner) (1.40.0)\n",
            "Requirement already satisfied: werkzeug>=0.11.15 in /usr/local/lib/python3.7/dist-packages (from tensorboard->keras-tuner) (1.0.1)\n",
            "Requirement already satisfied: pyasn1-modules>=0.2.1 in /usr/local/lib/python3.7/dist-packages (from google-auth<2,>=1.6.3->tensorboard->keras-tuner) (0.2.8)\n",
            "Requirement already satisfied: cachetools<5.0,>=2.0.0 in /usr/local/lib/python3.7/dist-packages (from google-auth<2,>=1.6.3->tensorboard->keras-tuner) (4.2.2)\n",
            "Requirement already satisfied: rsa<5,>=3.1.4 in /usr/local/lib/python3.7/dist-packages (from google-auth<2,>=1.6.3->tensorboard->keras-tuner) (4.7.2)\n",
            "Requirement already satisfied: requests-oauthlib>=0.7.0 in /usr/local/lib/python3.7/dist-packages (from google-auth-oauthlib<0.5,>=0.4.1->tensorboard->keras-tuner) (1.3.0)\n",
            "Requirement already satisfied: importlib-metadata in /usr/local/lib/python3.7/dist-packages (from markdown>=2.6.8->tensorboard->keras-tuner) (4.8.1)\n",
            "Requirement already satisfied: pyasn1<0.5.0,>=0.4.6 in /usr/local/lib/python3.7/dist-packages (from pyasn1-modules>=0.2.1->google-auth<2,>=1.6.3->tensorboard->keras-tuner) (0.4.8)\n",
            "Requirement already satisfied: oauthlib>=3.0.0 in /usr/local/lib/python3.7/dist-packages (from requests-oauthlib>=0.7.0->google-auth-oauthlib<0.5,>=0.4.1->tensorboard->keras-tuner) (3.1.1)\n",
            "Requirement already satisfied: typing-extensions>=3.6.4 in /usr/local/lib/python3.7/dist-packages (from importlib-metadata->markdown>=2.6.8->tensorboard->keras-tuner) (3.7.4.3)\n",
            "Requirement already satisfied: zipp>=0.5 in /usr/local/lib/python3.7/dist-packages (from importlib-metadata->markdown>=2.6.8->tensorboard->keras-tuner) (3.5.0)\n",
            "Installing collected packages: kt-legacy, keras-tuner\n",
            "Successfully installed keras-tuner-1.0.4 kt-legacy-1.0.4\n",
            "Found existing installation: scikit-learn 0.22.2.post1\n",
            "Uninstalling scikit-learn-0.22.2.post1:\n",
            "  Successfully uninstalled scikit-learn-0.22.2.post1\n",
            "Collecting scikit-learn\n",
            "  Downloading scikit_learn-1.0-cp37-cp37m-manylinux_2_12_x86_64.manylinux2010_x86_64.whl (23.1 MB)\n",
            "\u001b[K     |████████████████████████████████| 23.1 MB 1.5 MB/s \n",
            "\u001b[?25hRequirement already satisfied: scipy>=1.1.0 in /usr/local/lib/python3.7/dist-packages (from scikit-learn) (1.4.1)\n",
            "Requirement already satisfied: numpy>=1.14.6 in /usr/local/lib/python3.7/dist-packages (from scikit-learn) (1.19.5)\n",
            "Collecting threadpoolctl>=2.0.0\n",
            "  Downloading threadpoolctl-2.2.0-py3-none-any.whl (12 kB)\n",
            "Requirement already satisfied: joblib>=0.11 in /usr/local/lib/python3.7/dist-packages (from scikit-learn) (1.0.1)\n",
            "Installing collected packages: threadpoolctl, scikit-learn\n",
            "Successfully installed scikit-learn-1.0 threadpoolctl-2.2.0\n",
            "Found existing installation: sklearn 0.0\n",
            "Uninstalling sklearn-0.0:\n",
            "  Successfully uninstalled sklearn-0.0\n",
            "Collecting sklearn\n",
            "  Downloading sklearn-0.0.tar.gz (1.1 kB)\n",
            "Requirement already satisfied: scikit-learn in /usr/local/lib/python3.7/dist-packages (from sklearn) (1.0)\n",
            "Requirement already satisfied: threadpoolctl>=2.0.0 in /usr/local/lib/python3.7/dist-packages (from scikit-learn->sklearn) (2.2.0)\n",
            "Requirement already satisfied: scipy>=1.1.0 in /usr/local/lib/python3.7/dist-packages (from scikit-learn->sklearn) (1.4.1)\n",
            "Requirement already satisfied: joblib>=0.11 in /usr/local/lib/python3.7/dist-packages (from scikit-learn->sklearn) (1.0.1)\n",
            "Requirement already satisfied: numpy>=1.14.6 in /usr/local/lib/python3.7/dist-packages (from scikit-learn->sklearn) (1.19.5)\n",
            "Building wheels for collected packages: sklearn\n",
            "  Building wheel for sklearn (setup.py) ... \u001b[?25l\u001b[?25hdone\n",
            "  Created wheel for sklearn: filename=sklearn-0.0-py2.py3-none-any.whl size=1309 sha256=eea43463dbd75a34befcd1bd673c2bd2278f4f1614916a91329681220af65c7d\n",
            "  Stored in directory: /root/.cache/pip/wheels/46/ef/c3/157e41f5ee1372d1be90b09f74f82b10e391eaacca8f22d33e\n",
            "Successfully built sklearn\n",
            "Installing collected packages: sklearn\n",
            "Successfully installed sklearn-0.0\n"
          ]
        }
      ]
    },
    {
      "cell_type": "markdown",
      "metadata": {
        "id": "f1_mWG1zq-wY"
      },
      "source": [
        "# Functions\n"
      ]
    },
    {
      "cell_type": "markdown",
      "metadata": {
        "id": "FKqPQui5rjJR"
      },
      "source": [
        "## Tidy dataframes and get data"
      ]
    },
    {
      "cell_type": "code",
      "metadata": {
        "id": "tqkp6c0krED8"
      },
      "source": [
        "## data functions\n",
        "def get_dummies_results(df, var='y', prefix='y'):\n",
        "    # working data frame\n",
        "    df_work = df.copy()\n",
        "    \n",
        "    # one hot encode results\n",
        "    y = pd.get_dummies(df_work[var], prefix=prefix, drop_first=False, dtype=int)\n",
        "    names_y = y.columns.values\n",
        "    \n",
        "    # append to dataframe\n",
        "    df_work[names_y] = y\n",
        "    \n",
        "    # reorder columns\n",
        "    columns_names = df_work.columns.values\n",
        "    columns_names = np.concatenate([names_y, columns_names[:-3]]) # number of y dummies'\n",
        "    df_work = df_work[columns_names]\n",
        "    \n",
        "    # drop result\n",
        "    df_work.drop(columns=var, inplace=True)\n",
        "    \n",
        "    return(df_work, list(names_y))\n",
        "\n",
        "def split_trainvaltest(df, queries, objective_var='y', var='x'):    \n",
        "    # working dataframe\n",
        "    df_work = df.copy()    \n",
        "    \n",
        "    # get train, validation and test\n",
        "    dbb = {}    \n",
        "    for k,v in queries.items():\n",
        "        df_subset = df_work.query(v)\n",
        "        \n",
        "        # save objective and covariables in dataframe\n",
        "        dbb[k] = {'y': df_subset[objective_var], 'X': df_subset[var]}\n",
        "        \n",
        "    return(dbb)\n",
        "\n",
        "def tidy_bdd(df, queries, objective_var='y', var='x'): \n",
        "    # working data frame\n",
        "    df_work = df.copy()\n",
        "    \n",
        "    # get dummies\n",
        "    df_work, names_y = get_dummies_results(df_work, var=objective_var, prefix=objective_var)\n",
        "    \n",
        "    # mutate matchweek to normalize it (lost generalization in functions)\n",
        "    df_work['matchweek'] = df_work.groupby('season')['matchweek'].\\\n",
        "        transform(lambda x: (x - min(x))/(max(x) - min(x)))   \n",
        "    \n",
        "    # get train, validation and test\n",
        "    dbb = split_trainvaltest(df_work, queries, objective_var=names_y, var=var)  \n",
        "    \n",
        "    return(dbb)\n"
      ],
      "execution_count": null,
      "outputs": []
    },
    {
      "cell_type": "markdown",
      "metadata": {
        "id": "65_2RGHPq_Nj"
      },
      "source": [
        "## Generate models for hyperparams"
      ]
    },
    {
      "cell_type": "code",
      "metadata": {
        "id": "S4LIexhMq_UJ"
      },
      "source": [
        "# model 1:  Elastic Net\n",
        "def build_model_elastic(hp):\n",
        "  # init randomness\n",
        "  nn_utils_ravj._reset_random_seeds(8)\n",
        "  n_covars = 21\n",
        "  n_l = 4\n",
        "\n",
        "  #### hyper params ####\n",
        "  # lambda penalization\n",
        "  dic_lambdas = {\n",
        "      'layer' + str(i+1): hp.Float(\n",
        "        name='elastic_lambda_l' + str(i+1),\n",
        "        min_value=1e-4,\n",
        "        max_value=1e-2\n",
        "      ) \n",
        "      for i in range(n_l)\n",
        "  }\n",
        "\n",
        "  # alpha (convex combination between lasso & ridge)\n",
        "  dic_alphas = {\n",
        "      'layer' + str(i+1): hp.Float(\n",
        "        name='elastic_alpha_l' + str(i+1),\n",
        "        min_value=0,\n",
        "        max_value=1,\n",
        "        default=0.5\n",
        "      ) for i in range(n_l)\n",
        "  }\n",
        "\n",
        "  # number of neurons\n",
        "  # create a funnel architecture\n",
        "  dic_units = dict()\n",
        "  for i in range(n_l - 1):\n",
        "    if i == 0:\n",
        "      dic_units['layer1'] = hp.Int(\n",
        "        name='units_l1',\n",
        "        min_value=n_covars,\n",
        "        max_value=n_covars*2,\n",
        "        step=4,\n",
        "        default=n_covars # initial value\n",
        "      )\n",
        "    else:\n",
        "      dic_units['layer' + str(i+1)] = hp.Int(\n",
        "        name='units_l' + str(i+1),\n",
        "        min_value=dic_units['layer' + str(i)],\n",
        "        max_value=dic_units['layer' + str(i)]*2,\n",
        "        step=4,\n",
        "        default=dic_units['layer' + str(i)] # initial value\n",
        "      )\n",
        "\n",
        "  # learning rate\n",
        "  lr_r = hp.Choice(\n",
        "      name = \"lr\", \n",
        "      values = [1e-2, 1e-3, 1e-4]\n",
        "    )\n",
        "\n",
        "  #### create model ####\n",
        "  model = keras.Sequential()\n",
        "  # layers\n",
        "  for i in range(n_l - 1):\n",
        "    ikey = str(i+1)\n",
        "    model.add(\n",
        "        keras.layers.Dense(\n",
        "            units=dic_units['layer' + ikey],\n",
        "            activation='relu',\n",
        "            kernel_initializer='he_normal',\n",
        "            kernel_regularizer=keras.regularizers.l1_l2(\n",
        "                l1=dic_lambdas['layer' + ikey] * dic_alphas['layer' + ikey],     # Hastie & Tibshiranie formulation of elastic net \n",
        "                l2=dic_lambdas['layer' + ikey] * (1 - dic_alphas['layer' + ikey]) / 2  # Hastie & Tibshiranie formulation of elastic net \n",
        "              ),\n",
        "            dtype=np.float64\n",
        "        )\n",
        "    )\n",
        "\n",
        "  # final layer\n",
        "  model.add(\n",
        "      keras.layers.Dense(\n",
        "        units=3, # three final classes\n",
        "        activation='softmax',\n",
        "        kernel_initializer=keras.initializers.GlorotNormal(),\n",
        "        kernel_regularizer=keras.regularizers.l1_l2(\n",
        "            l1=dic_lambdas['layer' + str(n_l)] * dic_alphas['layer' + str(n_l)],\n",
        "            l2=dic_lambdas['layer' + str(n_l)] * (1 - dic_alphas['layer' + str(n_l)]) / 2  \n",
        "          ),\n",
        "        dtype=np.float64          \n",
        "      )\n",
        "  )\n",
        "\n",
        "  # compile model\n",
        "  model.compile(\n",
        "        optimizer=keras.optimizers.Nadam(learning_rate=lr_r),\n",
        "        loss='categorical_crossentropy',\n",
        "        metrics=['accuracy']\n",
        "    )\n",
        "\n",
        "  return(model)\n",
        "\n",
        "\n",
        "# model 2:  Lasso\n",
        "def build_model_lasso(hp):\n",
        "  # init randomness\n",
        "  nn_utils_ravj._reset_random_seeds(8)\n",
        "  n_covars = 21\n",
        "  n_l = 4\n",
        "\n",
        "  #### hyper params ####\n",
        "  # lambda penalization\n",
        "  dic_lambdas = {\n",
        "      'layer' + str(i+1): hp.Float(\n",
        "        name='elastic_lambda_l' + str(i+1),\n",
        "        min_value=1e-4,\n",
        "        max_value=1e-2\n",
        "      ) \n",
        "      for i in range(n_l)\n",
        "  }\n",
        "\n",
        "  # number of layers\n",
        "  # create a funnel architecture\n",
        "  dic_units = dict()\n",
        "  for i in range(n_l - 1):\n",
        "    if i == 0:\n",
        "      dic_units['layer1'] = hp.Int(\n",
        "        name='units_l1',\n",
        "        min_value=n_covars,\n",
        "        max_value=n_covars*2,\n",
        "        step=4,\n",
        "        default=n_covars # initial value\n",
        "      )\n",
        "    else:\n",
        "      dic_units['layer' + str(i+1)] = hp.Int(\n",
        "        name='units_l' + str(i+1),\n",
        "        min_value=dic_units['layer' + str(i)],\n",
        "        max_value=dic_units['layer' + str(i)]*2,\n",
        "        step=4,\n",
        "        default=dic_units['layer' + str(i)] # initial value\n",
        "      )\n",
        "\n",
        "  # learning rate\n",
        "  lr_r = hp.Choice(\n",
        "      name = \"lr\", \n",
        "      values = [1e-2, 1e-3, 1e-4]\n",
        "    )\n",
        "\n",
        "  #### create model ####\n",
        "  model = keras.Sequential()\n",
        "  # layers\n",
        "  for i in range(n_l - 1):\n",
        "    ikey = str(i+1)\n",
        "    model.add(\n",
        "        keras.layers.Dense(\n",
        "            units=dic_units['layer' + ikey],\n",
        "            activation='relu',\n",
        "            kernel_initializer='he_normal',\n",
        "            kernel_regularizer=keras.regularizers.l1(dic_lambdas['layer' + ikey]),\n",
        "            dtype=np.float64\n",
        "        )\n",
        "    )\n",
        "\n",
        "  # final layer\n",
        "  model.add(\n",
        "      keras.layers.Dense(\n",
        "        units=3, # three final classes\n",
        "        activation='softmax',\n",
        "        kernel_initializer=keras.initializers.GlorotNormal(),\n",
        "        kernel_regularizer=keras.regularizers.l1(dic_lambdas['layer' + ikey]),\n",
        "        dtype=np.float64          \n",
        "      )\n",
        "  )\n",
        "\n",
        "  # compile model\n",
        "  model.compile(\n",
        "        optimizer=keras.optimizers.Nadam(learning_rate=lr_r),\n",
        "        loss='categorical_crossentropy',\n",
        "        metrics=['accuracy']\n",
        "    )\n",
        "\n",
        "  return(model)\n",
        "\n",
        "\n",
        "# model 3:  Ridge\n",
        "def build_model_ridge(hp):\n",
        "  # init randomness\n",
        "  nn_utils_ravj._reset_random_seeds(8)\n",
        "  n_covars = 21\n",
        "  n_l = 4\n",
        "\n",
        "\n",
        "  #### hyper params ####\n",
        "  # lambda penalization\n",
        "  dic_lambdas = {\n",
        "      'layer' + str(i+1): hp.Float(\n",
        "        name='elastic_lambda_l' + str(i+1),\n",
        "        min_value=1e-4,\n",
        "        max_value=1e-2\n",
        "      ) \n",
        "      for i in range(n_l)\n",
        "  }\n",
        "\n",
        "  # number of neurons\n",
        "  # create a funnel architecture\n",
        "  dic_units = dict()\n",
        "  for i in range(n_l - 1):\n",
        "    if i == 0:\n",
        "      dic_units['layer1'] = hp.Int(\n",
        "        name='units_l1',\n",
        "        min_value=n_covars,\n",
        "        max_value=n_covars*2,\n",
        "        step=4,\n",
        "        default=n_covars # initial value\n",
        "      )\n",
        "    else:\n",
        "      dic_units['layer' + str(i+1)] = hp.Int(\n",
        "        name='units_l' + str(i+1),\n",
        "        min_value=dic_units['layer' + str(i)],\n",
        "        max_value=dic_units['layer' + str(i)]*2,\n",
        "        step=4,\n",
        "        default=dic_units['layer' + str(i)] # initial value\n",
        "      )\n",
        "\n",
        "  # learning rate\n",
        "  lr_r = hp.Choice(\n",
        "      name = \"lr\", \n",
        "      values = [1e-2, 1e-3, 1e-4]\n",
        "    )\n",
        "\n",
        "  #### create model ####\n",
        "  model = keras.Sequential()\n",
        "  # layers\n",
        "  for i in range(n_l - 1):\n",
        "    ikey = str(i+1)\n",
        "    model.add(\n",
        "        keras.layers.Dense(\n",
        "            units=dic_units['layer' + ikey],\n",
        "            activation='relu',\n",
        "            kernel_initializer='he_normal',\n",
        "            kernel_regularizer=keras.regularizers.l2(dic_lambdas['layer' + ikey]),\n",
        "            dtype=np.float64\n",
        "        )\n",
        "    )\n",
        "\n",
        "  # final layer\n",
        "  model.add(\n",
        "      keras.layers.Dense(\n",
        "        units=3, # three final classes\n",
        "        activation='softmax',\n",
        "        kernel_initializer=keras.initializers.GlorotNormal(),\n",
        "        kernel_regularizer=keras.regularizers.l2(dic_lambdas['layer' + ikey]),\n",
        "        dtype=np.float64          \n",
        "      )\n",
        "  )\n",
        "\n",
        "  # compile model\n",
        "  model.compile(\n",
        "        optimizer=keras.optimizers.Nadam(learning_rate=lr_r),\n",
        "        loss='categorical_crossentropy',\n",
        "        metrics=['accuracy']\n",
        "    )\n",
        "\n",
        "  return(model)\n",
        "\n",
        "\n",
        "# model 4:  DropOut\n",
        "def build_model_dropout(hp):\n",
        "  # init randomness\n",
        "  nn_utils_ravj._reset_random_seeds(8)\n",
        "  n_covars = 21\n",
        "  n_l = 4\n",
        "\n",
        "  #### hyper params ####\n",
        "  # dropout\n",
        "  dic_dropout_rate = {\n",
        "      'layer' + str(i+1): hp.Float(\n",
        "        name='rate_l' + str(i+1),\n",
        "        min_value=1e-6,\n",
        "        max_value=0.5,\n",
        "        sampling='log'\n",
        "        ) \n",
        "      for i in range(n_l - 1)\n",
        "  }\n",
        "\n",
        "  # number of layers\n",
        "  # create a funnel architecture\n",
        "  dic_units = dict()\n",
        "  for i in range(n_l - 1):\n",
        "    if i == 0:\n",
        "      dic_units['layer1'] = hp.Int(\n",
        "        name='units_l1',\n",
        "        min_value=n_covars,\n",
        "        max_value=n_covars*2,\n",
        "        step=4,\n",
        "        default=n_covars # initial value\n",
        "      )\n",
        "    else:\n",
        "      dic_units['layer' + str(i+1)] = hp.Int(\n",
        "        name='units_l' + str(i+1),\n",
        "        min_value=dic_units['layer' + str(i)],\n",
        "        max_value=dic_units['layer' + str(i)]*2,\n",
        "        step=4,\n",
        "        default=dic_units['layer' + str(i)] # initial value\n",
        "      )\n",
        "\n",
        "  # learning rate\n",
        "  lr_r = hp.Choice(\n",
        "      name = \"lr\", \n",
        "      values = [1e-2, 1e-3, 1e-4]\n",
        "    )\n",
        "\n",
        "  #### create model ####\n",
        "  model = keras.Sequential()\n",
        "  \n",
        "  # layers\n",
        "  for i in range(n_l - 1):\n",
        "    ikey = str(i+1)\n",
        "    # model layer\n",
        "    model.add(\n",
        "        keras.layers.Dense(\n",
        "            units=dic_units['layer' + ikey],\n",
        "            activation='relu',\n",
        "            kernel_initializer='he_normal',\n",
        "            dtype=np.float64\n",
        "        )    \n",
        "    )\n",
        "    # model dropout\n",
        "    model.add(\n",
        "        keras.layers.Dropout(rate=dic_dropout_rate['layer' + ikey])        \n",
        "    )\n",
        "\n",
        "\n",
        "  # final layer\n",
        "  model.add(\n",
        "      keras.layers.Dense(\n",
        "        units=3, # three final classes\n",
        "        activation='softmax',\n",
        "        kernel_initializer=keras.initializers.GlorotNormal(),\n",
        "        dtype=np.float64          \n",
        "      )\n",
        "  )\n",
        "\n",
        "  # compile model\n",
        "  model.compile(\n",
        "        optimizer=keras.optimizers.Nadam(learning_rate=lr_r),\n",
        "        loss='categorical_crossentropy',\n",
        "        metrics=['accuracy']\n",
        "    )\n",
        "\n",
        "  return(model)\n",
        "\n",
        "# model 5:  Batch Normalization\n",
        "def build_model_bn(hp):\n",
        "    \"\"\"\n",
        "    Batch Normalization _before_ the activation function, as argued by\n",
        "    F. Chollet and paper authors: S. Ioffe & C. Szegedy\n",
        "    \n",
        "    Parameters\n",
        "    ----------\n",
        "    hp : TYPE\n",
        "        DESCRIPTION.\n",
        "    \n",
        "    Returns\n",
        "    -------\n",
        "    None.\n",
        "    \n",
        "    \"\"\"\n",
        "    # init randomness\n",
        "    nn_utils_ravj._reset_random_seeds(8)\n",
        "    n_covars = 21\n",
        "    \n",
        "    #### hyper params ####\n",
        "    # number of layers\n",
        "    n_l = hp.Int(\n",
        "        name='n_l',\n",
        "        min_value=2, # not a shallow nn\n",
        "        max_value=10,\n",
        "        default=5      \n",
        "        )\n",
        "    \n",
        "    # create a funnel architecture\n",
        "    dic_units = dict()\n",
        "    for i in range(n_l - 1):\n",
        "      if i == 0:\n",
        "        dic_units['layer1'] = hp.Int(\n",
        "          name='units_l1',\n",
        "          min_value=n_covars,\n",
        "          max_value=n_covars*2,\n",
        "          step=4,\n",
        "          default=n_covars # initial value\n",
        "        )\n",
        "      else:\n",
        "        dic_units['layer' + str(i+1)] = hp.Int(\n",
        "          name='units_l' + str(i+1),\n",
        "          min_value=dic_units['layer' + str(i)],\n",
        "          max_value=dic_units['layer' + str(i)]*2,\n",
        "          step=4,\n",
        "          default=dic_units['layer' + str(i)] # initial value\n",
        "        )\n",
        "  \n",
        "    # learning rate\n",
        "    lr_r = hp.Choice(\n",
        "        name = \"lr\", \n",
        "        values = [1e-2, 1e-3, 1e-4]\n",
        "      )\n",
        "  \n",
        "    #### create model ####\n",
        "    # init\n",
        "    model = keras.Sequential()\n",
        "    # batch normalization\n",
        "    model.add(keras.layers.BatchNormalization())\n",
        "    \n",
        "    # layers\n",
        "    for i in range(n_l - 1):\n",
        "        ikey = str(i+1)\n",
        "        \n",
        "        # compute Z score\n",
        "        model.add(\n",
        "            keras.layers.Dense(\n",
        "                units=dic_units['layer' + ikey],\n",
        "                kernel_initializer='he_normal',\n",
        "                use_bias=False, # there isn't need of a bais term because is centered\n",
        "                dtype=np.float\n",
        "            )            \n",
        "        )\n",
        "        \n",
        "        # compute A score\n",
        "        model.add(keras.layers.Activation('elu'))\n",
        "        \n",
        "        # batch normalization\n",
        "        model.add(keras.layers.BatchNormalization())\n",
        "  \n",
        "    # final layer\n",
        "    model.add(\n",
        "        keras.layers.Dense(\n",
        "          units=3, # three final classes\n",
        "          activation='softmax',\n",
        "          kernel_initializer=keras.initializers.GlorotNormal(),\n",
        "          dtype=np.float64          \n",
        "        )\n",
        "    )\n",
        "  \n",
        "    # compile model\n",
        "    model.compile(\n",
        "          optimizer=keras.optimizers.Nadam(learning_rate=lr_r),\n",
        "          loss='categorical_crossentropy',\n",
        "          metrics=['accuracy']\n",
        "      )\n",
        "  \n",
        "    return(model)\n"
      ],
      "execution_count": null,
      "outputs": []
    },
    {
      "cell_type": "markdown",
      "metadata": {
        "id": "BYTk-FBtq_zI"
      },
      "source": [
        "# Setup data\n"
      ]
    },
    {
      "cell_type": "code",
      "metadata": {
        "colab": {
          "base_uri": "https://localhost:8080/",
          "height": 317
        },
        "id": "u7heMcISrvfY",
        "outputId": "e44a1cf2-b84b-4ede-8173-2be2961d5333"
      },
      "source": [
        "# init parasm\n",
        "SEED_VALUE = 8\n",
        "\n",
        "# read data\n",
        "df_r = pd.read_csv(\"Data/Main_DBB/model_myscale.csv\")\n",
        "\n",
        "# generate trains / validation / test database (three tables)\n",
        "vars_model = [\n",
        "    'matchweek', 'total_pts_home',\n",
        "    'npxGD_ma_home', 'npxGD_var_home', 'big_six_home',\n",
        "    'position_table_away', 'total_pts_away',\n",
        "    'npxGD_ma_away', 'npxGD_var_away', 'big_six_away',\n",
        "    'promoted_team_away', 'att_home', 'def_home', \n",
        "    'transfer_budget_home', 'ip_home', \n",
        "    'att_away', 'def_away',\n",
        "    'transfer_budget_away', 'ip_away', \n",
        "    'proba_h', 'proba_a'\n",
        "  ]\n",
        "\n",
        "# queries to part in train/val/test\n",
        "queries_model = {\n",
        "    'train':  'season < 20',\n",
        "    'validation': 'season >= 20 & matchweek < 0.45',    # matchweek 18 (standarized)\n",
        "    'test': 'season >= 20 & matchweek >= 0.45'          # normalized(18; max=38, min=2) = (18-2)/(38-2) = 0.444...\n",
        "    }\n",
        "\n",
        "dbb = tidy_bdd(df_r, queries=queries_model, objective_var='result', var=vars_model)\n",
        "\n",
        "# look data base\n",
        "dbb.get('train').get('X').describe()"
      ],
      "execution_count": null,
      "outputs": [
        {
          "output_type": "execute_result",
          "data": {
            "text/html": [
              "<div>\n",
              "<style scoped>\n",
              "    .dataframe tbody tr th:only-of-type {\n",
              "        vertical-align: middle;\n",
              "    }\n",
              "\n",
              "    .dataframe tbody tr th {\n",
              "        vertical-align: top;\n",
              "    }\n",
              "\n",
              "    .dataframe thead th {\n",
              "        text-align: right;\n",
              "    }\n",
              "</style>\n",
              "<table border=\"1\" class=\"dataframe\">\n",
              "  <thead>\n",
              "    <tr style=\"text-align: right;\">\n",
              "      <th></th>\n",
              "      <th>matchweek</th>\n",
              "      <th>total_pts_home</th>\n",
              "      <th>npxGD_ma_home</th>\n",
              "      <th>npxGD_var_home</th>\n",
              "      <th>big_six_home</th>\n",
              "      <th>position_table_away</th>\n",
              "      <th>total_pts_away</th>\n",
              "      <th>npxGD_ma_away</th>\n",
              "      <th>npxGD_var_away</th>\n",
              "      <th>big_six_away</th>\n",
              "      <th>promoted_team_away</th>\n",
              "      <th>att_home</th>\n",
              "      <th>def_home</th>\n",
              "      <th>transfer_budget_home</th>\n",
              "      <th>ip_home</th>\n",
              "      <th>att_away</th>\n",
              "      <th>def_away</th>\n",
              "      <th>transfer_budget_away</th>\n",
              "      <th>ip_away</th>\n",
              "      <th>proba_h</th>\n",
              "      <th>proba_a</th>\n",
              "    </tr>\n",
              "  </thead>\n",
              "  <tbody>\n",
              "    <tr>\n",
              "      <th>count</th>\n",
              "      <td>2220.000000</td>\n",
              "      <td>2220.000000</td>\n",
              "      <td>2220.000000</td>\n",
              "      <td>2220.000000</td>\n",
              "      <td>2220.000000</td>\n",
              "      <td>2220.000000</td>\n",
              "      <td>2220.000000</td>\n",
              "      <td>2220.000000</td>\n",
              "      <td>2220.000000</td>\n",
              "      <td>2220.000000</td>\n",
              "      <td>2220.000000</td>\n",
              "      <td>2220.000000</td>\n",
              "      <td>2220.000000</td>\n",
              "      <td>2220.000000</td>\n",
              "      <td>2220.000000</td>\n",
              "      <td>2220.000000</td>\n",
              "      <td>2220.000000</td>\n",
              "      <td>2220.000000</td>\n",
              "      <td>2220.000000</td>\n",
              "      <td>2220.000000</td>\n",
              "      <td>2220.000000</td>\n",
              "    </tr>\n",
              "    <tr>\n",
              "      <th>mean</th>\n",
              "      <td>0.500000</td>\n",
              "      <td>-0.012502</td>\n",
              "      <td>-0.010084</td>\n",
              "      <td>1.257990</td>\n",
              "      <td>0.300000</td>\n",
              "      <td>0.507433</td>\n",
              "      <td>0.001995</td>\n",
              "      <td>0.015510</td>\n",
              "      <td>1.255919</td>\n",
              "      <td>0.300000</td>\n",
              "      <td>0.151351</td>\n",
              "      <td>0.020449</td>\n",
              "      <td>0.027483</td>\n",
              "      <td>0.114290</td>\n",
              "      <td>0.385135</td>\n",
              "      <td>0.022433</td>\n",
              "      <td>0.029752</td>\n",
              "      <td>0.115313</td>\n",
              "      <td>0.383902</td>\n",
              "      <td>0.445553</td>\n",
              "      <td>0.308803</td>\n",
              "    </tr>\n",
              "    <tr>\n",
              "      <th>std</th>\n",
              "      <td>0.296652</td>\n",
              "      <td>1.001463</td>\n",
              "      <td>0.627713</td>\n",
              "      <td>0.619004</td>\n",
              "      <td>0.458361</td>\n",
              "      <td>0.299962</td>\n",
              "      <td>0.999171</td>\n",
              "      <td>0.627774</td>\n",
              "      <td>0.607556</td>\n",
              "      <td>0.458361</td>\n",
              "      <td>0.358472</td>\n",
              "      <td>0.990964</td>\n",
              "      <td>0.958845</td>\n",
              "      <td>0.969831</td>\n",
              "      <td>0.292012</td>\n",
              "      <td>0.993263</td>\n",
              "      <td>0.965821</td>\n",
              "      <td>0.970322</td>\n",
              "      <td>0.292737</td>\n",
              "      <td>0.201966</td>\n",
              "      <td>0.182642</td>\n",
              "    </tr>\n",
              "    <tr>\n",
              "      <th>min</th>\n",
              "      <td>0.000000</td>\n",
              "      <td>-2.166821</td>\n",
              "      <td>-1.933021</td>\n",
              "      <td>0.000000</td>\n",
              "      <td>0.000000</td>\n",
              "      <td>0.000000</td>\n",
              "      <td>-2.095657</td>\n",
              "      <td>-1.758819</td>\n",
              "      <td>0.000000</td>\n",
              "      <td>0.000000</td>\n",
              "      <td>0.000000</td>\n",
              "      <td>-2.231579</td>\n",
              "      <td>-2.501700</td>\n",
              "      <td>-1.334137</td>\n",
              "      <td>0.000000</td>\n",
              "      <td>-2.423877</td>\n",
              "      <td>-2.535188</td>\n",
              "      <td>-1.334137</td>\n",
              "      <td>0.000000</td>\n",
              "      <td>0.037577</td>\n",
              "      <td>0.023453</td>\n",
              "    </tr>\n",
              "    <tr>\n",
              "      <th>25%</th>\n",
              "      <td>0.250000</td>\n",
              "      <td>-0.811611</td>\n",
              "      <td>-0.461575</td>\n",
              "      <td>0.859697</td>\n",
              "      <td>0.000000</td>\n",
              "      <td>0.263158</td>\n",
              "      <td>-0.764888</td>\n",
              "      <td>-0.433364</td>\n",
              "      <td>0.858786</td>\n",
              "      <td>0.000000</td>\n",
              "      <td>0.000000</td>\n",
              "      <td>-0.628628</td>\n",
              "      <td>-0.719808</td>\n",
              "      <td>-0.592900</td>\n",
              "      <td>0.157895</td>\n",
              "      <td>-0.620037</td>\n",
              "      <td>-0.727890</td>\n",
              "      <td>-0.592900</td>\n",
              "      <td>0.157895</td>\n",
              "      <td>0.299620</td>\n",
              "      <td>0.173726</td>\n",
              "    </tr>\n",
              "    <tr>\n",
              "      <th>50%</th>\n",
              "      <td>0.500000</td>\n",
              "      <td>-0.178063</td>\n",
              "      <td>-0.113924</td>\n",
              "      <td>1.132317</td>\n",
              "      <td>0.000000</td>\n",
              "      <td>0.526316</td>\n",
              "      <td>-0.178016</td>\n",
              "      <td>-0.097547</td>\n",
              "      <td>1.131736</td>\n",
              "      <td>0.000000</td>\n",
              "      <td>0.000000</td>\n",
              "      <td>-0.138438</td>\n",
              "      <td>-0.158291</td>\n",
              "      <td>-0.129627</td>\n",
              "      <td>0.315789</td>\n",
              "      <td>-0.153186</td>\n",
              "      <td>-0.157501</td>\n",
              "      <td>-0.128759</td>\n",
              "      <td>0.315789</td>\n",
              "      <td>0.430700</td>\n",
              "      <td>0.279276</td>\n",
              "    </tr>\n",
              "    <tr>\n",
              "      <th>75%</th>\n",
              "      <td>0.750000</td>\n",
              "      <td>0.663157</td>\n",
              "      <td>0.382797</td>\n",
              "      <td>1.528581</td>\n",
              "      <td>1.000000</td>\n",
              "      <td>0.780702</td>\n",
              "      <td>0.670109</td>\n",
              "      <td>0.392524</td>\n",
              "      <td>1.541207</td>\n",
              "      <td>1.000000</td>\n",
              "      <td>0.000000</td>\n",
              "      <td>0.795474</td>\n",
              "      <td>0.705114</td>\n",
              "      <td>0.861064</td>\n",
              "      <td>0.631579</td>\n",
              "      <td>0.796697</td>\n",
              "      <td>0.719727</td>\n",
              "      <td>0.861064</td>\n",
              "      <td>0.631579</td>\n",
              "      <td>0.582526</td>\n",
              "      <td>0.410259</td>\n",
              "    </tr>\n",
              "    <tr>\n",
              "      <th>max</th>\n",
              "      <td>1.000000</td>\n",
              "      <td>3.202368</td>\n",
              "      <td>2.376635</td>\n",
              "      <td>5.257844</td>\n",
              "      <td>1.000000</td>\n",
              "      <td>1.000000</td>\n",
              "      <td>3.202368</td>\n",
              "      <td>2.423021</td>\n",
              "      <td>5.431222</td>\n",
              "      <td>1.000000</td>\n",
              "      <td>1.000000</td>\n",
              "      <td>2.647924</td>\n",
              "      <td>2.523599</td>\n",
              "      <td>2.064231</td>\n",
              "      <td>1.000000</td>\n",
              "      <td>2.679719</td>\n",
              "      <td>2.523599</td>\n",
              "      <td>2.064231</td>\n",
              "      <td>1.000000</td>\n",
              "      <td>0.924572</td>\n",
              "      <td>0.890472</td>\n",
              "    </tr>\n",
              "  </tbody>\n",
              "</table>\n",
              "</div>"
            ],
            "text/plain": [
              "         matchweek  total_pts_home  ...      proba_h      proba_a\n",
              "count  2220.000000     2220.000000  ...  2220.000000  2220.000000\n",
              "mean      0.500000       -0.012502  ...     0.445553     0.308803\n",
              "std       0.296652        1.001463  ...     0.201966     0.182642\n",
              "min       0.000000       -2.166821  ...     0.037577     0.023453\n",
              "25%       0.250000       -0.811611  ...     0.299620     0.173726\n",
              "50%       0.500000       -0.178063  ...     0.430700     0.279276\n",
              "75%       0.750000        0.663157  ...     0.582526     0.410259\n",
              "max       1.000000        3.202368  ...     0.924572     0.890472\n",
              "\n",
              "[8 rows x 21 columns]"
            ]
          },
          "metadata": {},
          "execution_count": 6
        }
      ]
    },
    {
      "cell_type": "markdown",
      "metadata": {
        "id": "pnn5aDCfrhZm"
      },
      "source": [
        "# Train Models"
      ]
    },
    {
      "cell_type": "markdown",
      "metadata": {
        "id": "e0Pv5gBcl0Qp"
      },
      "source": [
        "## Elastic Net"
      ]
    },
    {
      "cell_type": "code",
      "metadata": {
        "colab": {
          "base_uri": "https://localhost:8080/"
        },
        "id": "HWNiZgsYYbNh",
        "outputId": "c89526dd-31a3-4854-a6ff-b3455c1f85cd"
      },
      "source": [
        "# save each model of the random search\n",
        "# generate figure folder\n",
        "folder_results = \"Results/Models_NN_Search\"\n",
        "if not os.path.exists(folder_results):\n",
        "  os.makedirs(folder_results)\n",
        "\n",
        "\n",
        "\n",
        "# Model 1: Funnel Architecture, Elastic Net #\n",
        "tuner_en = kt.RandomSearch(\n",
        "    hypermodel=build_model_elastic,\n",
        "    objective='val_loss',\n",
        "    max_trials=10,\n",
        "    seed=SEED_VALUE,\n",
        "    overwrite=True,\n",
        "    directory=folder_results,\n",
        "    project_name='elastic_net'\n",
        ")\n",
        "\n",
        "# start search\n",
        "tuner_en.search(\n",
        "    dbb.get('train').get('X'),\n",
        "    dbb.get('train').get('y'),\n",
        "    epochs=20,\n",
        "    validation_data=(\n",
        "        dbb.get('validation').get('X'),\n",
        "        dbb.get('validation').get('y'),\n",
        "    )\n",
        ")\n",
        "\n"
      ],
      "execution_count": null,
      "outputs": [
        {
          "output_type": "stream",
          "name": "stdout",
          "text": [
            "Trial 10 Complete [00h 00m 05s]\n",
            "val_loss: 1.0472559928894043\n",
            "\n",
            "Best val_loss So Far: 1.0320403575897217\n",
            "Total elapsed time: 00h 01m 06s\n",
            "INFO:tensorflow:Oracle triggered exit\n"
          ]
        }
      ]
    },
    {
      "cell_type": "markdown",
      "metadata": {
        "id": "Q6jcwdtQYbvj"
      },
      "source": [
        "### Look bets models"
      ]
    },
    {
      "cell_type": "code",
      "metadata": {
        "colab": {
          "base_uri": "https://localhost:8080/"
        },
        "id": "jdMh0O6yjgi7",
        "outputId": "7aba7cda-5d32-4441-a6b5-d0bf71c8ca94"
      },
      "source": [
        "tuner_en.results_summary(num_trials=1)"
      ],
      "execution_count": null,
      "outputs": [
        {
          "output_type": "stream",
          "name": "stdout",
          "text": [
            "Results summary\n",
            "Results in Results/Models_NN_Search/elastic_net\n",
            "Showing 1 best trials\n",
            "Objective(name='val_loss', direction='min')\n",
            "Trial summary\n",
            "Hyperparameters:\n",
            "elastic_lambda_l1: 0.0027877620212734613\n",
            "elastic_lambda_l2: 0.005108810096325453\n",
            "elastic_lambda_l3: 0.0015327334710733178\n",
            "elastic_lambda_l4: 0.005011946081024086\n",
            "elastic_alpha_l1: 0.731531130400211\n",
            "elastic_alpha_l2: 0.1995887063541001\n",
            "elastic_alpha_l3: 0.7915259359614659\n",
            "elastic_alpha_l4: 0.14595480067964695\n",
            "units_l1: 29\n",
            "units_l2: 21\n",
            "units_l3: 25\n",
            "lr: 0.01\n",
            "Score: 1.0320403575897217\n"
          ]
        }
      ]
    },
    {
      "cell_type": "markdown",
      "metadata": {
        "id": "9uvmHG7rYb3_"
      },
      "source": [
        "## Lasso Penalization"
      ]
    },
    {
      "cell_type": "code",
      "metadata": {
        "colab": {
          "base_uri": "https://localhost:8080/"
        },
        "id": "bT6TsO46qfCv",
        "outputId": "823fc912-9ab4-451a-d796-cf6f5cd46ef7"
      },
      "source": [
        "# Model 2: Funnel Architecture, Lasso Penalization #\n",
        "tuner_lasso = kt.RandomSearch(\n",
        "    hypermodel=build_model_lasso,\n",
        "    objective='val_loss',\n",
        "    max_trials=5,\n",
        "    seed=SEED_VALUE,\n",
        "    overwrite=True,\n",
        "    directory=folder_results,\n",
        "    project_name='lasso'\n",
        ")\n",
        "\n",
        "# start search \n",
        "tuner_lasso.search(\n",
        "    dbb.get('train').get('X'),\n",
        "    dbb.get('train').get('y'),\n",
        "    epochs=20,\n",
        "    validation_data=(\n",
        "        dbb.get('validation').get('X'),\n",
        "        dbb.get('validation').get('y'),\n",
        "    )\n",
        ")"
      ],
      "execution_count": null,
      "outputs": [
        {
          "output_type": "stream",
          "name": "stdout",
          "text": [
            "Trial 5 Complete [00h 00m 05s]\n",
            "val_loss: 1.145202875137329\n",
            "\n",
            "Best val_loss So Far: 1.0723049640655518\n",
            "Total elapsed time: 00h 00m 29s\n",
            "INFO:tensorflow:Oracle triggered exit\n"
          ]
        }
      ]
    },
    {
      "cell_type": "markdown",
      "metadata": {
        "id": "LGXkP5HjreUv"
      },
      "source": [
        "### Look bets models"
      ]
    },
    {
      "cell_type": "code",
      "metadata": {
        "colab": {
          "base_uri": "https://localhost:8080/"
        },
        "id": "8TM29BOYreU2",
        "outputId": "034f0541-d04e-475a-9b15-10479435447d"
      },
      "source": [
        "tuner_lasso.results_summary(num_trials=1)"
      ],
      "execution_count": null,
      "outputs": [
        {
          "output_type": "stream",
          "name": "stdout",
          "text": [
            "Results summary\n",
            "Results in Results/Models_NN_Search/lasso\n",
            "Showing 1 best trials\n",
            "Objective(name='val_loss', direction='min')\n",
            "Trial summary\n",
            "Hyperparameters:\n",
            "elastic_lambda_l1: 0.002344388007872383\n",
            "elastic_lambda_l2: 0.004683772842368713\n",
            "elastic_lambda_l3: 0.005756885687430145\n",
            "elastic_lambda_l4: 0.004578557579747205\n",
            "units_l1: 29\n",
            "units_l2: 25\n",
            "units_l3: 25\n",
            "lr: 0.01\n",
            "Score: 1.0723049640655518\n"
          ]
        }
      ]
    },
    {
      "cell_type": "markdown",
      "metadata": {
        "id": "IUNr1JuyqfAh"
      },
      "source": [
        "## Ridge Penalization"
      ]
    },
    {
      "cell_type": "code",
      "metadata": {
        "colab": {
          "base_uri": "https://localhost:8080/"
        },
        "id": "ztazO_j5rh-N",
        "outputId": "47fe84e1-e58f-4a9c-ccdf-e6a23989cead"
      },
      "source": [
        "# Model 3: Funnel Architecture, Ridge Penalization #\n",
        "tuner_ridge = kt.RandomSearch(\n",
        "    hypermodel=build_model_ridge,\n",
        "    objective='val_loss',\n",
        "    max_trials=5,\n",
        "    seed=SEED_VALUE,\n",
        "    overwrite=True,\n",
        "    directory=folder_results,\n",
        "    project_name='ridge'\n",
        ")\n",
        "\n",
        "# start search \n",
        "tuner_ridge.search(\n",
        "    dbb.get('train').get('X'),\n",
        "    dbb.get('train').get('y'),\n",
        "    epochs=20,\n",
        "    validation_data=(\n",
        "        dbb.get('validation').get('X'),\n",
        "        dbb.get('validation').get('y'),\n",
        "    )\n",
        ")"
      ],
      "execution_count": null,
      "outputs": [
        {
          "output_type": "stream",
          "name": "stdout",
          "text": [
            "Trial 5 Complete [00h 00m 06s]\n",
            "val_loss: 1.090043306350708\n",
            "\n",
            "Best val_loss So Far: 1.013405442237854\n",
            "Total elapsed time: 00h 00m 28s\n",
            "INFO:tensorflow:Oracle triggered exit\n"
          ]
        }
      ]
    },
    {
      "cell_type": "markdown",
      "metadata": {
        "id": "nNaLgEGRrspS"
      },
      "source": [
        "### Look bets models"
      ]
    },
    {
      "cell_type": "code",
      "metadata": {
        "colab": {
          "base_uri": "https://localhost:8080/"
        },
        "id": "ryWFNGwRrspX",
        "outputId": "acaf55e9-775f-48b4-fe2b-f0e250e22c47"
      },
      "source": [
        "tuner_ridge.results_summary(num_trials=1)"
      ],
      "execution_count": null,
      "outputs": [
        {
          "output_type": "stream",
          "name": "stdout",
          "text": [
            "Results summary\n",
            "Results in Results/Models_NN_Search/ridge\n",
            "Showing 1 best trials\n",
            "Objective(name='val_loss', direction='min')\n",
            "Trial summary\n",
            "Hyperparameters:\n",
            "elastic_lambda_l1: 0.0008664756601477108\n",
            "elastic_lambda_l2: 0.005746251389055045\n",
            "elastic_lambda_l3: 0.0053364602911100826\n",
            "elastic_lambda_l4: 0.005532076595873841\n",
            "units_l1: 29\n",
            "units_l2: 37\n",
            "units_l3: 33\n",
            "lr: 0.01\n",
            "Score: 1.013405442237854\n"
          ]
        }
      ]
    },
    {
      "cell_type": "markdown",
      "metadata": {
        "id": "AFGlv1Ztqe8J"
      },
      "source": [
        "## Dropout "
      ]
    },
    {
      "cell_type": "code",
      "metadata": {
        "colab": {
          "base_uri": "https://localhost:8080/"
        },
        "id": "ytvc3EbMqe5s",
        "outputId": "7342ecc3-1636-476d-d973-fc75c8814d40"
      },
      "source": [
        "# Model 4: Funnel Architecture, Dropout #\n",
        "tuner_do = kt.RandomSearch(\n",
        "    hypermodel=build_model_dropout,\n",
        "    objective='val_loss',\n",
        "    max_trials=5,\n",
        "    seed=SEED_VALUE,\n",
        "    overwrite=True,\n",
        "    directory=folder_results,\n",
        "    project_name='dropout'\n",
        ")\n",
        "\n",
        "# start search \n",
        "tuner_do.search(\n",
        "    dbb.get('train').get('X'),\n",
        "    dbb.get('train').get('y'),\n",
        "    epochs=20,\n",
        "    validation_data=(\n",
        "        dbb.get('validation').get('X'),\n",
        "        dbb.get('validation').get('y'),\n",
        "    )\n",
        ")"
      ],
      "execution_count": null,
      "outputs": [
        {
          "output_type": "stream",
          "name": "stdout",
          "text": [
            "Trial 5 Complete [00h 00m 05s]\n",
            "val_loss: 1.0435572862625122\n",
            "\n",
            "Best val_loss So Far: 0.9852834343910217\n",
            "Total elapsed time: 00h 00m 29s\n",
            "INFO:tensorflow:Oracle triggered exit\n"
          ]
        }
      ]
    },
    {
      "cell_type": "markdown",
      "metadata": {
        "id": "s9Nuw4FysF_E"
      },
      "source": [
        "### Look bets models"
      ]
    },
    {
      "cell_type": "code",
      "metadata": {
        "colab": {
          "base_uri": "https://localhost:8080/"
        },
        "id": "ZQygw9D1sF_E",
        "outputId": "c28ca70f-123a-4abf-e831-da462a23b0ec"
      },
      "source": [
        "tuner_do.results_summary(num_trials=1)"
      ],
      "execution_count": null,
      "outputs": [
        {
          "output_type": "stream",
          "name": "stdout",
          "text": [
            "Results summary\n",
            "Results in Results/Models_NN_Search/dropout\n",
            "Showing 1 best trials\n",
            "Objective(name='val_loss', direction='min')\n",
            "Trial summary\n",
            "Hyperparameters:\n",
            "rate_l1: 0.31687356623998275\n",
            "rate_l2: 0.00011489667217367887\n",
            "rate_l3: 0.0009435624387416539\n",
            "units_l1: 25\n",
            "units_l2: 37\n",
            "units_l3: 41\n",
            "lr: 0.01\n",
            "Score: 0.9852834343910217\n"
          ]
        }
      ]
    },
    {
      "cell_type": "markdown",
      "metadata": {
        "id": "zogVSiY0qe2-"
      },
      "source": [
        "## Batch Normalization"
      ]
    },
    {
      "cell_type": "code",
      "metadata": {
        "colab": {
          "base_uri": "https://localhost:8080/"
        },
        "id": "bjxIWEHjqex1",
        "outputId": "e218d0f5-7c1c-4756-bbbb-00f368a9586d"
      },
      "source": [
        "# Model 5: Random Funnel Architecture, BatchNormalization #\n",
        "tuner_bn = kt.RandomSearch(\n",
        "    hypermodel=build_model_bn,\n",
        "    objective='val_loss',\n",
        "    max_trials=5,\n",
        "    seed=SEED_VALUE,\n",
        "    overwrite=True,\n",
        "    directory=folder_results,\n",
        "    project_name='batch_normalization'\n",
        ")\n",
        "\n",
        "# start search \n",
        "tuner_bn.search(\n",
        "    dbb.get('train').get('X'),\n",
        "    dbb.get('train').get('y'),\n",
        "    epochs=20,\n",
        "    validation_data=(\n",
        "        dbb.get('validation').get('X'),\n",
        "        dbb.get('validation').get('y'),\n",
        "    )\n",
        ")"
      ],
      "execution_count": null,
      "outputs": [
        {
          "output_type": "stream",
          "name": "stdout",
          "text": [
            "Trial 5 Complete [00h 00m 07s]\n",
            "val_loss: 1.0170873403549194\n",
            "\n",
            "Best val_loss So Far: 1.0170873403549194\n",
            "Total elapsed time: 00h 00m 45s\n",
            "INFO:tensorflow:Oracle triggered exit\n"
          ]
        }
      ]
    },
    {
      "cell_type": "markdown",
      "metadata": {
        "id": "IOmU8aFrsV2c"
      },
      "source": [
        "### Look bets models"
      ]
    },
    {
      "cell_type": "code",
      "metadata": {
        "colab": {
          "base_uri": "https://localhost:8080/"
        },
        "id": "xYjBGNYBsV2d",
        "outputId": "9ec08114-21a6-4883-9431-c901e8137109"
      },
      "source": [
        "tuner_bn.results_summary(num_trials=1)"
      ],
      "execution_count": null,
      "outputs": [
        {
          "output_type": "stream",
          "name": "stdout",
          "text": [
            "Results summary\n",
            "Results in Results/Models_NN_Search/batch_normalization\n",
            "Showing 1 best trials\n",
            "Objective(name='val_loss', direction='min')\n",
            "Trial summary\n",
            "Hyperparameters:\n",
            "n_l: 5\n",
            "units_l1: 37\n",
            "units_l2: 33\n",
            "units_l3: 25\n",
            "units_l4: 29\n",
            "lr: 0.001\n",
            "units_l5: 61\n",
            "units_l6: 37\n",
            "units_l7: 53\n",
            "units_l8: 49\n",
            "Score: 1.0170873403549194\n"
          ]
        }
      ]
    },
    {
      "cell_type": "markdown",
      "metadata": {
        "id": "1SwcdK5kWFFz"
      },
      "source": [
        "# Build HyperModels with optimal instances"
      ]
    },
    {
      "cell_type": "code",
      "metadata": {
        "id": "TmRyE3epWqEK"
      },
      "source": [
        "def get_hypermodel(tn):\n",
        "  # get best model\n",
        "  best_hypermodel_instance = tn.get_best_hyperparameters(1)[0]\n",
        "\n",
        "  # instanciate \n",
        "  best_model = tn.hypermodel.build(best_hypermodel_instance)\n",
        "\n",
        "  return best_model\n",
        "\n",
        "# init each model\n",
        "fitnn_en = get_hypermodel(tuner_en)\n",
        "fitnn_lasso = get_hypermodel(tuner_lasso)\n",
        "fitnn_ridge = get_hypermodel(tuner_ridge)\n",
        "fitnn_do = get_hypermodel(tuner_do)\n",
        "fitnn_bn = get_hypermodel(tuner_bn)\n",
        "\n",
        "# save each model in an array\n",
        "list_models = [\n",
        "  fitnn_en, fitnn_lasso, fitnn_ridge, fitnn_do, fitnn_bn\n",
        "]\n",
        "\n",
        "name_models = ['elastic_net', 'lasso', 'ridge', 'dropout', 'batch_norm']\n",
        "\n",
        "dict_models = dict(zip(name_models, list_models))\n",
        "\n"
      ],
      "execution_count": null,
      "outputs": []
    },
    {
      "cell_type": "code",
      "metadata": {
        "id": "yvcRWg98Wp-g"
      },
      "source": [
        "def fit_model(dbb, model, seed=42):\n",
        "    # init randomness\n",
        "    nn_utils_ravj._reset_random_seeds(seed=seed)\n",
        "\n",
        "    # get train database\n",
        "    X_train=dbb.get('train')['X']\n",
        "    Y_train=dbb.get('train')['y']\n",
        "\n",
        "    # compile model\n",
        "    model.compile(\n",
        "            optimizer=keras.optimizers.Nadam(learning_rate=1e-2),\n",
        "            loss='categorical_crossentropy',\n",
        "            metrics=['accuracy']\n",
        "        )\n",
        "\n",
        "    # early stopping\n",
        "    early_stop = keras.callbacks.EarlyStopping(\n",
        "        monitor='val_loss',\n",
        "        mode='min',\n",
        "        min_delta=0.01,\n",
        "        patience=10,\n",
        "        restore_best_weights=True\n",
        "    )\n",
        "\n",
        "    # train model\n",
        "    model.fit(\n",
        "        x=X_train,\n",
        "        y=Y_train,\n",
        "        epochs=1000,\n",
        "        batch_size=32,\n",
        "        shuffle=False,\n",
        "        verbose=0,\n",
        "        callbacks=[early_stop],\n",
        "        validation_data=(dbb.get('validation')['X'], dbb.get('validation')['y']),\n",
        "        validation_batch_size=len(dbb.get('validation')['X'])    #complete gradient\n",
        "    )\n",
        "\n",
        "    return()\n",
        "\n",
        "\n",
        "def eval_model(dbb, model, nsplit_cv=5, ntest_cv=1, verbose=True, seed=42):\n",
        "    # merge train and validation in one dataframe\n",
        "    X_list = [v2 for k1, dics in dbb.items() if k1 != 'test' for k2, v2 in dics.items() if k2 == \"X\"]\n",
        "    Y_list = [v2 for k1, dics in dbb.items() if k1 != 'test' for k2, v2 in dics.items() if k2 == \"y\"]\n",
        "\n",
        "    X_data = pd.concat(X_list)\n",
        "    Y_data = pd.concat(Y_list)\n",
        "\n",
        "    # save\n",
        "    array_errors = np.zeros((nsplit_cv, 2))\n",
        "\n",
        "    # split data in nsplit_cv-folds\n",
        "    if verbose:\n",
        "        print(\"fold: \", end='')\n",
        "\n",
        "    tscv = TimeSeriesSplit(n_splits=nsplit_cv, test_size=ntest_cv, gap=0)\n",
        "    i = 0\n",
        "    \n",
        "    for index_train, index_val in tscv.split(X_data):\n",
        "        # get a look in the number of iterations\n",
        "        if verbose:\n",
        "            print(str(i+1) + \", \", end=\"\")\n",
        "            \n",
        "        # save train/val database\n",
        "        dbb_val = {\n",
        "            'train': {\n",
        "                'X': X_data.iloc[index_train],\n",
        "                'y': Y_data.iloc[index_train]\n",
        "            },\n",
        "            'validation': {\n",
        "                'X': X_data.iloc[index_val],\n",
        "                'y': Y_data.iloc[index_val]\n",
        "            }\n",
        "        }\n",
        "        \n",
        "        # shell model\n",
        "        model_copy = keras.models.clone_model(model)\n",
        "        \n",
        "        # fit model\n",
        "        fit_model(dbb_val, model_copy, seed)\n",
        "        \n",
        "        # evaluate time series cross validation data\n",
        "        # append metrics\n",
        "        array_errors[i] = model_copy.evaluate(\n",
        "            dbb_val.get('validation').get('X'),\n",
        "            dbb_val.get('validation').get('y'),\n",
        "            verbose=0            \n",
        "        )\n",
        "\n",
        "        # update index\n",
        "        i += 1\n",
        "\n",
        "\n",
        "    # get statistics of the metrics\n",
        "    # loss\n",
        "    mean_loss = np.mean(array_errors[:, 0], axis=0)\n",
        "    std_loss = np.std(array_errors[:, 0], axis=0)\n",
        "\n",
        "    # acc\n",
        "    mean_acc = np.mean(array_errors[:, 1], axis=0)\n",
        "    std_acc = np.std(array_errors[:, 1], axis=0)\n",
        "\n",
        "    # return\n",
        "    loss_stats = np.array((mean_loss, std_loss))\n",
        "    acc_stats = np.array((mean_acc, std_acc))\n",
        "\n",
        "    return(loss_stats, acc_stats)\n"
      ],
      "execution_count": null,
      "outputs": []
    },
    {
      "cell_type": "code",
      "metadata": {
        "id": "Uv42rSoBVgKC",
        "colab": {
          "base_uri": "https://localhost:8080/"
        },
        "outputId": "01a6d4f7-7ccf-4736-805f-96fcc7e5627f"
      },
      "source": [
        "# train each model\n",
        "dict_models_eval = dict()\n",
        "\n",
        "# get number of cross validation sets\n",
        "n_games_per_matchweek = 10 # there are 10 game per matchweek\n",
        "n_cv = dbb.get('validation').get('y').shape[0] // n_games_per_matchweek\n",
        "\n",
        "# evaluate models in a TCV\n",
        "for name_model, model in dict_models.items():\n",
        "  print(\"training model: \" + name_model)\n",
        "  dict_models_eval[name_model] = eval_model(\n",
        "      dbb, \n",
        "      model, \n",
        "      nsplit_cv=n_cv, \n",
        "      ntest_cv=n_games_per_matchweek,\n",
        "      verbose=True,\n",
        "      seed=SEED_VALUE\n",
        "  )\n",
        "  print(\"\\n\\n\")\n",
        "  \n",
        "\n"
      ],
      "execution_count": null,
      "outputs": [
        {
          "output_type": "stream",
          "name": "stdout",
          "text": [
            "training model: elastic_net\n",
            "fold: 1, 2, 3, 4, 5, 6, 7, 8, 9, 10, 11, 12, 13, 14, 15, 16, 17, \n",
            "\n",
            "\n",
            "training model: lasso\n",
            "fold: 1, 2, 3, 4, 5, 6, 7, 8, 9, 10, 11, 12, 13, 14, 15, 16, 17, \n",
            "\n",
            "\n",
            "training model: ridge\n",
            "fold: 1, 2, 3, 4, 5, 6, 7, 8, 9, 10, 11, 12, 13, 14, 15, 16, 17, \n",
            "\n",
            "\n",
            "training model: dropout\n",
            "fold: 1, 2, 3, 4, 5, 6, 7, 8, 9, 10, 11, 12, 13, 14, 15, 16, 17, \n",
            "\n",
            "\n",
            "training model: batch_norm\n",
            "fold: 1, 2, 3, 4, 5, 6, 7, 8, 9, 10, 11, 12, 13, 14, 15, 16, 17, \n",
            "\n",
            "\n"
          ]
        }
      ]
    },
    {
      "cell_type": "markdown",
      "metadata": {
        "id": "uQG15BvHVgRw"
      },
      "source": [
        "## Plot accuracy"
      ]
    },
    {
      "cell_type": "code",
      "metadata": {
        "id": "cRnx6z7OWZw5"
      },
      "source": [
        "# get accuracies\n",
        "names_models = list(dict_models_eval.keys())\n",
        "names_cols = ['mean', 'std']\n",
        "loss_array = np.vstack([value[0] for value in dict_models_eval.values()])\n",
        "acc_array = np.vstack([value[1] for value in dict_models_eval.values()])\n",
        "\n",
        "# to dataframe\n",
        "df_loss = pd.DataFrame(loss_array, index=names_models, columns=names_cols).sort_values(['mean', 'std'], ascending=[True, True])\n",
        "df_acc = pd.DataFrame(acc_array, index=names_models, columns=names_cols).sort_values(['mean', 'std'], ascending=[False, True])\n"
      ],
      "execution_count": null,
      "outputs": []
    },
    {
      "cell_type": "code",
      "metadata": {
        "colab": {
          "base_uri": "https://localhost:8080/",
          "height": 548
        },
        "id": "kvfsGRskWaBz",
        "outputId": "f55810ac-cc86-4611-eab8-18584c03ec76"
      },
      "source": [
        "# get names\n",
        "names_figures = list(df_acc.index)\n",
        "x_aux = np.arange(len(names_figures))\n",
        "\n",
        "# plot\n",
        "fig = plt.figure()\n",
        "ax = fig.add_subplot(111)\n",
        "ax.errorbar(\n",
        "    x_aux,\n",
        "    df_acc['mean'],\n",
        "    yerr = df_acc['std'],\n",
        "    capsize=5,\n",
        "    elinewidth=1,\n",
        "    color ='black',\n",
        "    ecolor='gray',\n",
        "    fmt='o'\n",
        ")\n",
        "\n",
        "# add decorators\n",
        "plt.title(\"Precisón por Modelo\", fontsize=30)\n",
        "\n",
        "ax.set_ylabel('Precisión', fontsize=20)\n",
        "\n",
        "ax.tick_params(axis='y', labelsize=15)\n",
        "ax.tick_params(axis='x', labelsize=15)\n",
        "\n",
        "ax.yaxis.set_major_formatter(mtick.PercentFormatter(1.0))\n",
        "\n",
        "plt.ylim(bottom=0, top=1)\n",
        "\n",
        "plt.xticks(x_aux, names_figures, fontsize=20)\n",
        "plt.margins(0.2)\n",
        "plt.subplots_adjust(bottom=0.15)\n",
        "\n",
        "# reescale plot\n",
        "fig.tight_layout(rect=[0, 0.03, 1*2, 0.95*2])\n",
        "\n",
        "# show figure \n",
        "plt.show()"
      ],
      "execution_count": null,
      "outputs": [
        {
          "output_type": "display_data",
          "data": {
            "image/png": "[encoded data removed]",
            "text/plain": [
              "<Figure size 432x288 with 1 Axes>"
            ]
          },
          "metadata": {
            "needs_background": "light"
          }
        }
      ]
    },
    {
      "cell_type": "code",
      "metadata": {
        "colab": {
          "base_uri": "https://localhost:8080/"
        },
        "id": "I13D_uCSWaO1",
        "outputId": "85494d43-c9b5-4932-b9aa-90fa3d1fb122"
      },
      "source": [
        "# get names\n",
        "names_figures = list(df_loss.index)\n",
        "x_aux = np.arange(len(names_figures))\n",
        "\n",
        "# plot\n",
        "fig = plt.figure()\n",
        "ax = fig.add_subplot(111)\n",
        "ax.errorbar(\n",
        "    x_aux,\n",
        "    df_loss['mean'],\n",
        "    yerr = df_loss['std'],\n",
        "    capsize=5,\n",
        "    elinewidth=1,\n",
        "    color ='black',\n",
        "    ecolor='gray',\n",
        "    fmt='o'\n",
        ")\n",
        "\n",
        "# add decorators\n",
        "plt.title(\"Pérdida por Modelo\", fontsize=30)\n",
        "\n",
        "ax.set_ylabel('Pérdida', fontsize=20)\n",
        "\n",
        "ax.tick_params(axis='y', labelsize=15)\n",
        "ax.tick_params(axis='x', labelsize=15)\n",
        "\n",
        "\n",
        "plt.xticks(x_aux, names_figures, fontsize=20)\n",
        "plt.margins(0.2)\n",
        "plt.subplots_adjust(bottom=0.15)\n",
        "\n",
        "# reescale plot\n",
        "fig.tight_layout(rect=[0, 0.03, 1*2, 0.95*2])\n",
        "\n",
        "# show figure \n",
        "plt.show()"
      ],
      "execution_count": null,
      "outputs": [
        {
          "output_type": "display_data",
          "data": {
            "image/png": "[encoded data removed]",
            "text/plain": [
              "<Figure size 432x288 with 1 Axes>"
            ]
          },
          "metadata": {
            "needs_background": "light"
          }
        }
      ]
    }
  ]
}